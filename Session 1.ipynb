{
 "cells": [
  {
   "cell_type": "markdown",
   "metadata": {
    "collapsed": true
   },
   "source": [
    "# 1. The interview process"
   ]
  },
  {
   "cell_type": "markdown",
   "metadata": {},
   "source": [
    "## 1.1 Introduction\n",
    "\n",
    "- Do you have the technical ability to do the job?\n",
    "- Will you behave reasonably? That is, will you do what you are asked and get on with others"
   ]
  },
  {
   "cell_type": "markdown",
   "metadata": {},
   "source": [
    "## 1.2 Getting an interview\n",
    "\n",
    "- Relationship\n",
    "    - Anyone with a similar background\n",
    "    - A graduate student the year above you who's applying for jobs in finance\n",
    "    - Different backgrounds, friends of friends\n",
    "\n",
    "\n",
    "- Headhunters\n",
    "    - they really want to place you (good)\n",
    "    - they want you to get a high salary; commission is a percentage (good)\n",
    "    - they would much rather place you quickly in any job than slowly in a better one (not so good)\n",
    "    - they will be unhappy if you accept a job through someone else (no commission, no fee, very unhappy)\n",
    "    - they may or may not be interested in a long term relationship; you will worth 5 times as much in 5 years to them\n",
    "    \n",
    "    \n",
    "- Programs\n",
    "    - Apply via bank's websites\n",
    "   "
   ]
  },
  {
   "cell_type": "markdown",
   "metadata": {},
   "source": [
    "## 1.3 The standard interview\n",
    "\n",
    "Make sure that:\n",
    "- Arrive dead on time; arrive early really irritates, and being late displays disorganization\n",
    "- wear a suit and are looking well groomed\n",
    "- the name of the person you are meeting\n",
    "- a copy of CV with you, and do not expect them to have seen nor read it\n",
    "- had plenty to eat and are not suffering a sugar low\n",
    "- switch off mobile phone\n",
    "\n",
    "Important points:\n",
    "- Do not argue with them about why they asked something\n",
    "- Thinking process counts as well as the solution, so talk about how you tackling it\n",
    "- They do not expect you to be able to do everything without help\n",
    "- If unsure of what you want, ask for clarification (numerical/coding problem, short solution/optimal one)"
   ]
  },
  {
   "cell_type": "markdown",
   "metadata": {},
   "source": [
    "## 1.4 Phone interview\n",
    "\n",
    "- Use the best phone line you can (which is generally not a mobile)\n",
    "- speak loudly and clearly\n",
    "- do not give the impression that you are looking things up in a book or on the web\n",
    "- have pen and paper handy\n",
    "- the fraction of brainteasers are higher than normal"
   ]
  },
  {
   "cell_type": "markdown",
   "metadata": {},
   "source": [
    "## 1.5 Follow-up\n",
    "\n",
    "- If you do not hear anything for a week or two, perfectly reasonable to politely ask what is happening\n",
    "- If they do not want you for the job, it does not mean that they think poorly of you (preparion not right, a better candidate)\n",
    "- Quant circle is not very big"
   ]
  },
  {
   "cell_type": "markdown",
   "metadata": {},
   "source": [
    "## 1.6 Dos and Don'ts\n",
    "\n",
    "- don't be too relaxed\n",
    "- don't tell them they shouldn't use C++ because my niche language is better\n",
    "- do be able to talk above everything on your CV (prepared 2 mins response on every phrase)\n",
    "- don't say you've read a book unless you can discuss its contents\n",
    "- do ask for feedback and don't argue about it\n",
    "- don't say you want to work in banking for the money (of course you do, but it's a bad form to say so)\n",
    "- do ask about the group you'll be working in\n",
    "    - how much turnover is there\n",
    "    - where people go when they leave\n",
    "    - how many people are in team\n",
    "    - when can you meet the rest of the group \n",
    "    - how old is the group\n",
    "    - is it expanding or contracting\n",
    "    - what would be a typical working day\n",
    "    "
   ]
  },
  {
   "cell_type": "markdown",
   "metadata": {},
   "source": [
    "## 1.7 When to apply\n",
    "\n",
    "1. Should not start applying unless you can start within next 2 months\n",
    "2. Should also wait until you are well-prepared\n",
    "\n",
    "    - Could you get \"A\" in an exam on the contents of \"the Concepts and Practice of Mathematical Finance\"\n",
    "    - Have you coded up some models in C++\n",
    "    - Are you on top of the contents of \"C++ Design patterns and derivatives pricing\"\n",
    "    - Can you do interview questons without too much difficulty?\n",
    "    - Have successfully complted a practice interview?\n",
    "\n"
   ]
  },
  {
   "cell_type": "markdown",
   "metadata": {},
   "source": [
    "## 1.8 The different roles\n",
    "\n",
    "- front office / desk quant (pricing models directly for traders)\n",
    "- model validation quant (pricing models to check the front office models are correct)\n",
    "- research quant (invent nre pricing approaches)\n",
    "- quant developer (programmer implementing others' models)\n",
    "- statistical arbitrage quant (finding patterns in data to suggest automated trades)"
   ]
  },
  {
   "cell_type": "markdown",
   "metadata": {},
   "source": [
    "## 1.9 Sorts of employers\n",
    "\n",
    "- Commercial banks, e.g. RBC, HSBC, Chase (shorter hours, better job security, less money)\n",
    "- Investment banks, e.g. JPM, GM (longer hours, bonus, tougher culture)\n",
    "- Hedge funds, e.g. Citadel (very large risk premia)\n",
    "- Accountancy firms (far from action, consulting)\n",
    "- Software companies "
   ]
  },
  {
   "cell_type": "markdown",
   "metadata": {},
   "source": [
    "## 1.10 Notes\n",
    "\n",
    "Biggest reasons of failures:\n",
    "- mistaken ideas about the knowledge required \n",
    "- inability to code\n",
    "- personality defects (only have to appear normal)\n",
    "- non-possession of appropriate degrees\n",
    "- lack of ability at mathematics (really good at math in your c.v.)"
   ]
  },
  {
   "cell_type": "markdown",
   "metadata": {},
   "source": [
    "# 2. Finance"
   ]
  },
  {
   "cell_type": "markdown",
   "metadata": {},
   "source": [
    "## 2.1 Option Pricing"
   ]
  },
  {
   "cell_type": "markdown",
   "metadata": {},
   "source": [
    "### 2.1.1 Price direction of options\n",
    "\n",
    "#### Black-Scholes\n",
    "The Black–Scholes or Black–Scholes–Merton model is a mathematical model of a financial market containing derivative investment instruments. \n",
    "\n",
    "- From the model, one can deduce the Black–Scholes formula, which gives a theoretical estimate of the price of European-style options. \n",
    "- lt is widely used, although often with adjustments and corrections, by options market participants.\n",
    "- Many empirical tests have shown that the Black–Scholes price is \"fairly close\" to the observed prices, although there are well-known discrepancies such as the \"option smile\".\n",
    "\n",
    "#### Notation\n",
    "\n",
    "Let $S$, be the price of the stock, which will sometimes be a random variable and other times a constant (context should make this clear).\n",
    "\n",
    "- $V(S,t)$, the price of a derivative as a function of time and stock price.\n",
    "- $C(S,t)$, the price of a European call option and \n",
    "- $P(S,t)$ the price of a European put option.\n",
    "- $K$, the strike price of the option.\n",
    "- $r$, the annualized risk-free interest rate, continuously compounded (the force of interest).\n",
    "- $\\mu$ , the drift rate of $S$, annualized.\n",
    "- $\\sigma$, the standard deviation of the stock's returns;\n",
    "- $t$, a time in years; we generally use: now=0, expiry=T.\n",
    "- $\\Pi$ , the value of a portfolio.\n",
    "\n",
    "Finally we will use $N(x)$ to denote the standard normal cumulative distribution function,\n",
    "\n",
    "$$ N(x)={\\frac {1}{\\sqrt {2\\pi }}}\\int _{-\\infty }^{x}e^{-{\\frac {z^{2}}{2}}}\\,dz. $$\n",
    "\n",
    "$N'(x)$ will denote the standard normal probability density function,\n",
    "\n",
    "$$ N'(x)={\\frac {1}{\\sqrt {2\\pi }}}e^{-{\\frac {x^{2}}{2}}} $$\n",
    "\n",
    "#### Black–Scholes equation\n",
    "\n",
    "$$ {\\frac {\\partial V}{\\partial t}}+{\\frac {1}{2}}\\sigma ^{2}S^{2}{\\frac {\\partial ^{2}V}{\\partial S^{2}}}+rS{\\frac {\\partial V}{\\partial S}}-rV=0 $$"
   ]
  },
  {
   "cell_type": "markdown",
   "metadata": {},
   "source": [
    "#### Black-Scholes formula\n",
    "\n",
    "The Black–Scholes formula calculates the price of European put and call options. This price is consistent with the Black–Scholes equation as above; this follows since the formula can be obtained by solving the equation for the corresponding terminal and boundary conditions.\n",
    "\n",
    "The value of a call option for a non-dividend-paying underlying stock in terms of the Black–Scholes parameters is:\n",
    "\n",
    "$${\\displaystyle {\\begin{aligned}C(S_{t},t)&=N(d_{1})S_{t}-N(d_{2})Ke^{-r(T-t)}\\\\d_{1}&={\\frac {1}{\\sigma {\\sqrt {T-t}}}}\\left[\\ln \\left({\\frac {S_{t}}{K}}\\right)+\\left(r+{\\frac {\\sigma ^{2}}{2}}\\right)(T-t)\\right]\\\\d_{2}&=d_{1}-\\sigma {\\sqrt {T-t}}\\\\\\end{aligned}}}$$\n",
    "\n",
    "The price of a corresponding put option based on put-call parity is:\n",
    "\n",
    "$$ {\\displaystyle {\\begin{aligned}P(S_{t},t)&=Ke^{-r(T-t)}-S_{t}+C(S_{t},t)\\\\&=N(-d_{2})Ke^{-r(T-t)}-N(-d_{1})S_{t}\\end{aligned}}\\,} $$"
   ]
  },
  {
   "cell_type": "markdown",
   "metadata": {},
   "source": [
    "#### The greeks"
   ]
  },
  {
   "cell_type": "markdown",
   "metadata": {},
   "source": [
    "\"The Greeks\" measure the sensitivity of the value of a derivative or a portfolio to changes in parameter value(s) while holding the other parameters fixed. They are partial derivatives of the price with respect to the parameter values. One Greek, \"gamma\" (as well as others not listed here) is a partial derivative of another Greek, \"delta\" in this case.\n",
    "\n",
    "The Greeks are important not only in the mathematical theory of finance, but also for those actively trading.\n",
    "\n",
    "<img src='http://www.anthony-vba.kefra.com/vba/greeks-4.gif'>\n",
    "\n",
    "Interpretation\n",
    "\n",
    "<img src='https://cdn-images-1.medium.com/max/800/1*0hKxzvUZ6uGtbAeJxAYyRg.jpeg'>\n",
    "\n",
    "Delta\n",
    "\n",
    "<img src='https://qph.ec.quoracdn.net/main-qimg-9552ee7edc09541f031eb25f4baff517?convert_to_webp=true'>\n",
    "\n",
    "Gamma\n",
    "\n",
    "<img src='http://www.theoptionsguide.com/images/time-to-expiration-and-gamma.gif'>\n",
    "\n",
    "Vega \n",
    "\n",
    "<img src='http://www.theoptionsguide.com/images/time-to-expiration-and-vega.gif'>"
   ]
  },
  {
   "cell_type": "markdown",
   "metadata": {},
   "source": [
    "### 2.1.2 Put call parity\n",
    "\n",
    "In financial mathematics, put–call parity defines a relationship between the price of a European call option and European put option, both with the identical strike price and expiry, namely that a portfolio of a long call option and a short put option is equivalent to (and hence has the same value as) a single forward contract at this strike price and expiry.\n",
    "\n",
    "equation can be stated as:\n",
    "\n",
    "$$ {\\displaystyle C(t)-P(t)=S(t)-K\\cdot B(t,T)} $$\n",
    "\n",
    "where\n",
    "\n",
    "- $C(t)$ is the value of the call at time $t$\n",
    "- $P(t)$ is the value of the put of the same expiration date,\n",
    "- $S(t)$ is the spot price of the underlying asset,\n",
    "- $K$ is the strike price, and\n",
    "- $B(t,T)$ is the present value of a zero-coupon bond that matures to 1 at time $T$. This is the present value factor for K."
   ]
  }
 ],
 "metadata": {
  "anaconda-cloud": {},
  "kernelspec": {
   "display_name": "Python [Root]",
   "language": "python",
   "name": "Python [Root]"
  },
  "language_info": {
   "codemirror_mode": {
    "name": "ipython",
    "version": 2
   },
   "file_extension": ".py",
   "mimetype": "text/x-python",
   "name": "python",
   "nbconvert_exporter": "python",
   "pygments_lexer": "ipython2",
   "version": "2.7.12"
  }
 },
 "nbformat": 4,
 "nbformat_minor": 0
}
